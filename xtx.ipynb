{
 "cells": [
  {
   "cell_type": "markdown",
   "metadata": {},
   "source": [
    "# XTX Market Challenge"
   ]
  },
  {
   "cell_type": "markdown",
   "metadata": {},
   "source": [
    "Here, we will try prediction methods to see how best we can predict the market stock price as given in this challenge.   \n",
    "Check out challenge.xtxmarkets.com for more information about this challenge"
   ]
  },
  {
   "cell_type": "markdown",
   "metadata": {},
   "source": [
    "### Import packages"
   ]
  },
  {
   "cell_type": "code",
   "execution_count": 1,
   "metadata": {},
   "outputs": [],
   "source": [
    "import pandas as pd\n",
    "from sklearn.preprocessing import StandardScaler\n",
    "from sklearn.model_selection import train_test_split\n",
    "from sklearn.linear_model import LinearRegression"
   ]
  },
  {
   "cell_type": "markdown",
   "metadata": {},
   "source": [
    "### Read and view our file"
   ]
  },
  {
   "cell_type": "markdown",
   "metadata": {},
   "source": [
    "The data contains about 3 million rows and is stored in csv which is about 1GB. I had to convert this to hdf format to reduce the size of the data and quicken computation.  \n",
    "We would read the data from the hdf format."
   ]
  },
  {
   "cell_type": "code",
   "execution_count": 2,
   "metadata": {},
   "outputs": [],
   "source": [
    "# save to data frame\n",
    "df = pd.read_hdf('new.h5')"
   ]
  },
  {
   "cell_type": "code",
   "execution_count": 3,
   "metadata": {},
   "outputs": [
    {
     "data": {
      "text/html": [
       "<div>\n",
       "<style scoped>\n",
       "    .dataframe tbody tr th:only-of-type {\n",
       "        vertical-align: middle;\n",
       "    }\n",
       "\n",
       "    .dataframe tbody tr th {\n",
       "        vertical-align: top;\n",
       "    }\n",
       "\n",
       "    .dataframe thead th {\n",
       "        text-align: right;\n",
       "    }\n",
       "</style>\n",
       "<table border=\"1\" class=\"dataframe\">\n",
       "  <thead>\n",
       "    <tr style=\"text-align: right;\">\n",
       "      <th></th>\n",
       "      <th>askRate0</th>\n",
       "      <th>askRate1</th>\n",
       "      <th>askRate2</th>\n",
       "      <th>askRate3</th>\n",
       "      <th>askRate4</th>\n",
       "      <th>askRate5</th>\n",
       "      <th>askRate6</th>\n",
       "      <th>askRate7</th>\n",
       "      <th>askRate8</th>\n",
       "      <th>askRate9</th>\n",
       "      <th>...</th>\n",
       "      <th>bidSize6</th>\n",
       "      <th>bidSize7</th>\n",
       "      <th>bidSize8</th>\n",
       "      <th>bidSize9</th>\n",
       "      <th>bidSize10</th>\n",
       "      <th>bidSize11</th>\n",
       "      <th>bidSize12</th>\n",
       "      <th>bidSize13</th>\n",
       "      <th>bidSize14</th>\n",
       "      <th>y</th>\n",
       "    </tr>\n",
       "  </thead>\n",
       "  <tbody>\n",
       "    <tr>\n",
       "      <th>0</th>\n",
       "      <td>1619.5</td>\n",
       "      <td>1620.0</td>\n",
       "      <td>1621.0</td>\n",
       "      <td>NaN</td>\n",
       "      <td>NaN</td>\n",
       "      <td>NaN</td>\n",
       "      <td>NaN</td>\n",
       "      <td>NaN</td>\n",
       "      <td>NaN</td>\n",
       "      <td>NaN</td>\n",
       "      <td>...</td>\n",
       "      <td>20.0</td>\n",
       "      <td>27.0</td>\n",
       "      <td>11.0</td>\n",
       "      <td>14.0</td>\n",
       "      <td>35.0</td>\n",
       "      <td>10.0</td>\n",
       "      <td>1.0</td>\n",
       "      <td>10.0</td>\n",
       "      <td>13.0</td>\n",
       "      <td>-0.5</td>\n",
       "    </tr>\n",
       "    <tr>\n",
       "      <th>1</th>\n",
       "      <td>1619.5</td>\n",
       "      <td>1620.0</td>\n",
       "      <td>1621.0</td>\n",
       "      <td>1621.5</td>\n",
       "      <td>NaN</td>\n",
       "      <td>NaN</td>\n",
       "      <td>NaN</td>\n",
       "      <td>NaN</td>\n",
       "      <td>NaN</td>\n",
       "      <td>NaN</td>\n",
       "      <td>...</td>\n",
       "      <td>20.0</td>\n",
       "      <td>27.0</td>\n",
       "      <td>11.0</td>\n",
       "      <td>14.0</td>\n",
       "      <td>35.0</td>\n",
       "      <td>10.0</td>\n",
       "      <td>1.0</td>\n",
       "      <td>10.0</td>\n",
       "      <td>13.0</td>\n",
       "      <td>-0.5</td>\n",
       "    </tr>\n",
       "    <tr>\n",
       "      <th>2</th>\n",
       "      <td>1619.5</td>\n",
       "      <td>1620.0</td>\n",
       "      <td>1621.0</td>\n",
       "      <td>1621.5</td>\n",
       "      <td>1622.0</td>\n",
       "      <td>NaN</td>\n",
       "      <td>NaN</td>\n",
       "      <td>NaN</td>\n",
       "      <td>NaN</td>\n",
       "      <td>NaN</td>\n",
       "      <td>...</td>\n",
       "      <td>20.0</td>\n",
       "      <td>27.0</td>\n",
       "      <td>11.0</td>\n",
       "      <td>14.0</td>\n",
       "      <td>35.0</td>\n",
       "      <td>10.0</td>\n",
       "      <td>1.0</td>\n",
       "      <td>10.0</td>\n",
       "      <td>13.0</td>\n",
       "      <td>-0.5</td>\n",
       "    </tr>\n",
       "    <tr>\n",
       "      <th>3</th>\n",
       "      <td>1619.5</td>\n",
       "      <td>1620.0</td>\n",
       "      <td>1621.0</td>\n",
       "      <td>1621.5</td>\n",
       "      <td>1622.0</td>\n",
       "      <td>NaN</td>\n",
       "      <td>NaN</td>\n",
       "      <td>NaN</td>\n",
       "      <td>NaN</td>\n",
       "      <td>NaN</td>\n",
       "      <td>...</td>\n",
       "      <td>20.0</td>\n",
       "      <td>27.0</td>\n",
       "      <td>11.0</td>\n",
       "      <td>14.0</td>\n",
       "      <td>35.0</td>\n",
       "      <td>10.0</td>\n",
       "      <td>1.0</td>\n",
       "      <td>10.0</td>\n",
       "      <td>13.0</td>\n",
       "      <td>-0.5</td>\n",
       "    </tr>\n",
       "    <tr>\n",
       "      <th>4</th>\n",
       "      <td>1619.5</td>\n",
       "      <td>1620.0</td>\n",
       "      <td>1621.0</td>\n",
       "      <td>1621.5</td>\n",
       "      <td>1622.0</td>\n",
       "      <td>NaN</td>\n",
       "      <td>NaN</td>\n",
       "      <td>NaN</td>\n",
       "      <td>NaN</td>\n",
       "      <td>NaN</td>\n",
       "      <td>...</td>\n",
       "      <td>20.0</td>\n",
       "      <td>27.0</td>\n",
       "      <td>11.0</td>\n",
       "      <td>14.0</td>\n",
       "      <td>35.0</td>\n",
       "      <td>10.0</td>\n",
       "      <td>1.0</td>\n",
       "      <td>10.0</td>\n",
       "      <td>13.0</td>\n",
       "      <td>-0.5</td>\n",
       "    </tr>\n",
       "  </tbody>\n",
       "</table>\n",
       "<p>5 rows × 61 columns</p>\n",
       "</div>"
      ],
      "text/plain": [
       "   askRate0  askRate1  askRate2  askRate3  askRate4  askRate5  askRate6  \\\n",
       "0    1619.5    1620.0    1621.0       NaN       NaN       NaN       NaN   \n",
       "1    1619.5    1620.0    1621.0    1621.5       NaN       NaN       NaN   \n",
       "2    1619.5    1620.0    1621.0    1621.5    1622.0       NaN       NaN   \n",
       "3    1619.5    1620.0    1621.0    1621.5    1622.0       NaN       NaN   \n",
       "4    1619.5    1620.0    1621.0    1621.5    1622.0       NaN       NaN   \n",
       "\n",
       "   askRate7  askRate8  askRate9 ...   bidSize6  bidSize7  bidSize8  bidSize9  \\\n",
       "0       NaN       NaN       NaN ...       20.0      27.0      11.0      14.0   \n",
       "1       NaN       NaN       NaN ...       20.0      27.0      11.0      14.0   \n",
       "2       NaN       NaN       NaN ...       20.0      27.0      11.0      14.0   \n",
       "3       NaN       NaN       NaN ...       20.0      27.0      11.0      14.0   \n",
       "4       NaN       NaN       NaN ...       20.0      27.0      11.0      14.0   \n",
       "\n",
       "   bidSize10  bidSize11  bidSize12  bidSize13  bidSize14    y  \n",
       "0       35.0       10.0        1.0       10.0       13.0 -0.5  \n",
       "1       35.0       10.0        1.0       10.0       13.0 -0.5  \n",
       "2       35.0       10.0        1.0       10.0       13.0 -0.5  \n",
       "3       35.0       10.0        1.0       10.0       13.0 -0.5  \n",
       "4       35.0       10.0        1.0       10.0       13.0 -0.5  \n",
       "\n",
       "[5 rows x 61 columns]"
      ]
     },
     "execution_count": 3,
     "metadata": {},
     "output_type": "execute_result"
    }
   ],
   "source": [
    "df.head()"
   ]
  },
  {
   "cell_type": "code",
   "execution_count": 4,
   "metadata": {},
   "outputs": [
    {
     "data": {
      "text/html": [
       "<div>\n",
       "<style scoped>\n",
       "    .dataframe tbody tr th:only-of-type {\n",
       "        vertical-align: middle;\n",
       "    }\n",
       "\n",
       "    .dataframe tbody tr th {\n",
       "        vertical-align: top;\n",
       "    }\n",
       "\n",
       "    .dataframe thead th {\n",
       "        text-align: right;\n",
       "    }\n",
       "</style>\n",
       "<table border=\"1\" class=\"dataframe\">\n",
       "  <thead>\n",
       "    <tr style=\"text-align: right;\">\n",
       "      <th></th>\n",
       "      <th>askRate0</th>\n",
       "      <th>askRate1</th>\n",
       "      <th>askRate2</th>\n",
       "      <th>askRate3</th>\n",
       "      <th>askRate4</th>\n",
       "      <th>askRate5</th>\n",
       "      <th>askRate6</th>\n",
       "      <th>askRate7</th>\n",
       "      <th>askRate8</th>\n",
       "      <th>askRate9</th>\n",
       "      <th>...</th>\n",
       "      <th>bidSize6</th>\n",
       "      <th>bidSize7</th>\n",
       "      <th>bidSize8</th>\n",
       "      <th>bidSize9</th>\n",
       "      <th>bidSize10</th>\n",
       "      <th>bidSize11</th>\n",
       "      <th>bidSize12</th>\n",
       "      <th>bidSize13</th>\n",
       "      <th>bidSize14</th>\n",
       "      <th>y</th>\n",
       "    </tr>\n",
       "  </thead>\n",
       "  <tbody>\n",
       "    <tr>\n",
       "      <th>2999994</th>\n",
       "      <td>1583.5</td>\n",
       "      <td>1584.0</td>\n",
       "      <td>1584.5</td>\n",
       "      <td>1585.0</td>\n",
       "      <td>1585.5</td>\n",
       "      <td>1586.0</td>\n",
       "      <td>1586.5</td>\n",
       "      <td>1587.0</td>\n",
       "      <td>1587.5</td>\n",
       "      <td>1588.0</td>\n",
       "      <td>...</td>\n",
       "      <td>64.0</td>\n",
       "      <td>13.0</td>\n",
       "      <td>28.0</td>\n",
       "      <td>44.0</td>\n",
       "      <td>95.0</td>\n",
       "      <td>2.0</td>\n",
       "      <td>3.0</td>\n",
       "      <td>26.0</td>\n",
       "      <td>3.0</td>\n",
       "      <td>0.5</td>\n",
       "    </tr>\n",
       "    <tr>\n",
       "      <th>2999995</th>\n",
       "      <td>1583.5</td>\n",
       "      <td>1584.0</td>\n",
       "      <td>1584.5</td>\n",
       "      <td>1585.0</td>\n",
       "      <td>1585.5</td>\n",
       "      <td>1586.0</td>\n",
       "      <td>1586.5</td>\n",
       "      <td>1587.0</td>\n",
       "      <td>1587.5</td>\n",
       "      <td>1588.0</td>\n",
       "      <td>...</td>\n",
       "      <td>64.0</td>\n",
       "      <td>13.0</td>\n",
       "      <td>28.0</td>\n",
       "      <td>44.0</td>\n",
       "      <td>95.0</td>\n",
       "      <td>2.0</td>\n",
       "      <td>3.0</td>\n",
       "      <td>26.0</td>\n",
       "      <td>3.0</td>\n",
       "      <td>0.5</td>\n",
       "    </tr>\n",
       "    <tr>\n",
       "      <th>2999996</th>\n",
       "      <td>1583.5</td>\n",
       "      <td>1584.0</td>\n",
       "      <td>1584.5</td>\n",
       "      <td>1585.0</td>\n",
       "      <td>1585.5</td>\n",
       "      <td>1586.0</td>\n",
       "      <td>1586.5</td>\n",
       "      <td>1587.0</td>\n",
       "      <td>1587.5</td>\n",
       "      <td>1588.0</td>\n",
       "      <td>...</td>\n",
       "      <td>64.0</td>\n",
       "      <td>13.0</td>\n",
       "      <td>28.0</td>\n",
       "      <td>44.0</td>\n",
       "      <td>95.0</td>\n",
       "      <td>2.0</td>\n",
       "      <td>3.0</td>\n",
       "      <td>26.0</td>\n",
       "      <td>3.0</td>\n",
       "      <td>0.5</td>\n",
       "    </tr>\n",
       "    <tr>\n",
       "      <th>2999997</th>\n",
       "      <td>1583.5</td>\n",
       "      <td>1584.0</td>\n",
       "      <td>1584.5</td>\n",
       "      <td>1585.0</td>\n",
       "      <td>1585.5</td>\n",
       "      <td>1586.0</td>\n",
       "      <td>1586.5</td>\n",
       "      <td>1587.0</td>\n",
       "      <td>1587.5</td>\n",
       "      <td>1588.0</td>\n",
       "      <td>...</td>\n",
       "      <td>64.0</td>\n",
       "      <td>13.0</td>\n",
       "      <td>28.0</td>\n",
       "      <td>44.0</td>\n",
       "      <td>95.0</td>\n",
       "      <td>2.0</td>\n",
       "      <td>3.0</td>\n",
       "      <td>26.0</td>\n",
       "      <td>3.0</td>\n",
       "      <td>0.5</td>\n",
       "    </tr>\n",
       "    <tr>\n",
       "      <th>2999998</th>\n",
       "      <td>1583.5</td>\n",
       "      <td>1584.0</td>\n",
       "      <td>1584.5</td>\n",
       "      <td>1585.0</td>\n",
       "      <td>1585.5</td>\n",
       "      <td>1586.0</td>\n",
       "      <td>1586.5</td>\n",
       "      <td>1587.0</td>\n",
       "      <td>1587.5</td>\n",
       "      <td>1588.0</td>\n",
       "      <td>...</td>\n",
       "      <td>64.0</td>\n",
       "      <td>13.0</td>\n",
       "      <td>28.0</td>\n",
       "      <td>44.0</td>\n",
       "      <td>95.0</td>\n",
       "      <td>2.0</td>\n",
       "      <td>3.0</td>\n",
       "      <td>26.0</td>\n",
       "      <td>3.0</td>\n",
       "      <td>0.5</td>\n",
       "    </tr>\n",
       "  </tbody>\n",
       "</table>\n",
       "<p>5 rows × 61 columns</p>\n",
       "</div>"
      ],
      "text/plain": [
       "         askRate0  askRate1  askRate2  askRate3  askRate4  askRate5  askRate6  \\\n",
       "2999994    1583.5    1584.0    1584.5    1585.0    1585.5    1586.0    1586.5   \n",
       "2999995    1583.5    1584.0    1584.5    1585.0    1585.5    1586.0    1586.5   \n",
       "2999996    1583.5    1584.0    1584.5    1585.0    1585.5    1586.0    1586.5   \n",
       "2999997    1583.5    1584.0    1584.5    1585.0    1585.5    1586.0    1586.5   \n",
       "2999998    1583.5    1584.0    1584.5    1585.0    1585.5    1586.0    1586.5   \n",
       "\n",
       "         askRate7  askRate8  askRate9 ...   bidSize6  bidSize7  bidSize8  \\\n",
       "2999994    1587.0    1587.5    1588.0 ...       64.0      13.0      28.0   \n",
       "2999995    1587.0    1587.5    1588.0 ...       64.0      13.0      28.0   \n",
       "2999996    1587.0    1587.5    1588.0 ...       64.0      13.0      28.0   \n",
       "2999997    1587.0    1587.5    1588.0 ...       64.0      13.0      28.0   \n",
       "2999998    1587.0    1587.5    1588.0 ...       64.0      13.0      28.0   \n",
       "\n",
       "         bidSize9  bidSize10  bidSize11  bidSize12  bidSize13  bidSize14    y  \n",
       "2999994      44.0       95.0        2.0        3.0       26.0        3.0  0.5  \n",
       "2999995      44.0       95.0        2.0        3.0       26.0        3.0  0.5  \n",
       "2999996      44.0       95.0        2.0        3.0       26.0        3.0  0.5  \n",
       "2999997      44.0       95.0        2.0        3.0       26.0        3.0  0.5  \n",
       "2999998      44.0       95.0        2.0        3.0       26.0        3.0  0.5  \n",
       "\n",
       "[5 rows x 61 columns]"
      ]
     },
     "execution_count": 4,
     "metadata": {},
     "output_type": "execute_result"
    }
   ],
   "source": [
    "df.tail()"
   ]
  },
  {
   "cell_type": "markdown",
   "metadata": {},
   "source": [
    "### Basic wrangling"
   ]
  },
  {
   "cell_type": "code",
   "execution_count": 5,
   "metadata": {},
   "outputs": [
    {
     "data": {
      "text/plain": [
       "array([dtype('float64')], dtype=object)"
      ]
     },
     "execution_count": 5,
     "metadata": {},
     "output_type": "execute_result"
    }
   ],
   "source": [
    "# check for data types\n",
    "df.dtypes.unique()"
   ]
  },
  {
   "cell_type": "code",
   "execution_count": 6,
   "metadata": {},
   "outputs": [
    {
     "data": {
      "text/plain": [
       "askRate1      36\n",
       "askRate2      64\n",
       "askRate3      97\n",
       "askRate4     138\n",
       "askRate5     173\n",
       "askRate6     207\n",
       "askRate7     238\n",
       "askRate8     265\n",
       "askRate9     291\n",
       "askRate10    325\n",
       "askRate11    360\n",
       "askRate12    394\n",
       "askRate13    429\n",
       "askRate14    451\n",
       "askSize1      36\n",
       "askSize2      64\n",
       "askSize3      97\n",
       "askSize4     138\n",
       "askSize5     173\n",
       "askSize6     207\n",
       "askSize7     238\n",
       "askSize8     265\n",
       "askSize9     291\n",
       "askSize10    325\n",
       "askSize11    360\n",
       "askSize12    394\n",
       "askSize13    429\n",
       "askSize14    451\n",
       "dtype: int64"
      ]
     },
     "execution_count": 6,
     "metadata": {},
     "output_type": "execute_result"
    }
   ],
   "source": [
    "# view columns with null values\n",
    "null = df.isnull().sum()\n",
    "null[null>0]"
   ]
  },
  {
   "cell_type": "code",
   "execution_count": 3,
   "metadata": {},
   "outputs": [],
   "source": [
    "# fill null values with 0 as required from the competition\n",
    "df.fillna(0, inplace = True)"
   ]
  },
  {
   "cell_type": "code",
   "execution_count": 8,
   "metadata": {},
   "outputs": [
    {
     "data": {
      "text/plain": [
       "False"
      ]
     },
     "execution_count": 8,
     "metadata": {},
     "output_type": "execute_result"
    }
   ],
   "source": [
    "# verify if null values were filled \n",
    "df.isnull().values.any()"
   ]
  },
  {
   "cell_type": "markdown",
   "metadata": {},
   "source": [
    "### Data exploration"
   ]
  },
  {
   "cell_type": "code",
   "execution_count": 9,
   "metadata": {},
   "outputs": [
    {
     "data": {
      "text/html": [
       "<div>\n",
       "<style scoped>\n",
       "    .dataframe tbody tr th:only-of-type {\n",
       "        vertical-align: middle;\n",
       "    }\n",
       "\n",
       "    .dataframe tbody tr th {\n",
       "        vertical-align: top;\n",
       "    }\n",
       "\n",
       "    .dataframe thead th {\n",
       "        text-align: right;\n",
       "    }\n",
       "</style>\n",
       "<table border=\"1\" class=\"dataframe\">\n",
       "  <thead>\n",
       "    <tr style=\"text-align: right;\">\n",
       "      <th></th>\n",
       "      <th>askRate0</th>\n",
       "      <th>askRate1</th>\n",
       "      <th>askRate2</th>\n",
       "      <th>askRate3</th>\n",
       "      <th>askRate4</th>\n",
       "      <th>askRate5</th>\n",
       "      <th>askRate6</th>\n",
       "      <th>askRate7</th>\n",
       "      <th>askRate8</th>\n",
       "      <th>askRate9</th>\n",
       "      <th>...</th>\n",
       "      <th>bidSize6</th>\n",
       "      <th>bidSize7</th>\n",
       "      <th>bidSize8</th>\n",
       "      <th>bidSize9</th>\n",
       "      <th>bidSize10</th>\n",
       "      <th>bidSize11</th>\n",
       "      <th>bidSize12</th>\n",
       "      <th>bidSize13</th>\n",
       "      <th>bidSize14</th>\n",
       "      <th>y</th>\n",
       "    </tr>\n",
       "  </thead>\n",
       "  <tbody>\n",
       "    <tr>\n",
       "      <th>count</th>\n",
       "      <td>2.999999e+06</td>\n",
       "      <td>2.999999e+06</td>\n",
       "      <td>2.999999e+06</td>\n",
       "      <td>2.999999e+06</td>\n",
       "      <td>2.999999e+06</td>\n",
       "      <td>2.999999e+06</td>\n",
       "      <td>2.999999e+06</td>\n",
       "      <td>2.999999e+06</td>\n",
       "      <td>2.999999e+06</td>\n",
       "      <td>2.999999e+06</td>\n",
       "      <td>...</td>\n",
       "      <td>2.999999e+06</td>\n",
       "      <td>2.999999e+06</td>\n",
       "      <td>2.999999e+06</td>\n",
       "      <td>2.999999e+06</td>\n",
       "      <td>2.999999e+06</td>\n",
       "      <td>2.999999e+06</td>\n",
       "      <td>2.999999e+06</td>\n",
       "      <td>2.999999e+06</td>\n",
       "      <td>2.999999e+06</td>\n",
       "      <td>2.999999e+06</td>\n",
       "    </tr>\n",
       "    <tr>\n",
       "      <th>mean</th>\n",
       "      <td>1.642373e+03</td>\n",
       "      <td>1.642860e+03</td>\n",
       "      <td>1.643348e+03</td>\n",
       "      <td>1.643833e+03</td>\n",
       "      <td>1.644313e+03</td>\n",
       "      <td>1.644795e+03</td>\n",
       "      <td>1.645280e+03</td>\n",
       "      <td>1.645768e+03</td>\n",
       "      <td>1.646261e+03</td>\n",
       "      <td>1.646762e+03</td>\n",
       "      <td>...</td>\n",
       "      <td>1.658825e+01</td>\n",
       "      <td>1.583800e+01</td>\n",
       "      <td>1.603431e+01</td>\n",
       "      <td>1.589281e+01</td>\n",
       "      <td>1.657957e+01</td>\n",
       "      <td>1.678613e+01</td>\n",
       "      <td>1.809773e+01</td>\n",
       "      <td>1.858412e+01</td>\n",
       "      <td>1.949315e+01</td>\n",
       "      <td>-7.023336e-04</td>\n",
       "    </tr>\n",
       "    <tr>\n",
       "      <th>std</th>\n",
       "      <td>2.687644e+01</td>\n",
       "      <td>2.747233e+01</td>\n",
       "      <td>2.792671e+01</td>\n",
       "      <td>2.845367e+01</td>\n",
       "      <td>2.909564e+01</td>\n",
       "      <td>2.963349e+01</td>\n",
       "      <td>3.014723e+01</td>\n",
       "      <td>3.060886e+01</td>\n",
       "      <td>3.100550e+01</td>\n",
       "      <td>3.138272e+01</td>\n",
       "      <td>...</td>\n",
       "      <td>2.610603e+01</td>\n",
       "      <td>2.645040e+01</td>\n",
       "      <td>2.745232e+01</td>\n",
       "      <td>2.800111e+01</td>\n",
       "      <td>3.055616e+01</td>\n",
       "      <td>3.161555e+01</td>\n",
       "      <td>3.379460e+01</td>\n",
       "      <td>3.526231e+01</td>\n",
       "      <td>3.590462e+01</td>\n",
       "      <td>7.085593e-01</td>\n",
       "    </tr>\n",
       "    <tr>\n",
       "      <th>min</th>\n",
       "      <td>1.575500e+03</td>\n",
       "      <td>0.000000e+00</td>\n",
       "      <td>0.000000e+00</td>\n",
       "      <td>0.000000e+00</td>\n",
       "      <td>0.000000e+00</td>\n",
       "      <td>0.000000e+00</td>\n",
       "      <td>0.000000e+00</td>\n",
       "      <td>0.000000e+00</td>\n",
       "      <td>0.000000e+00</td>\n",
       "      <td>0.000000e+00</td>\n",
       "      <td>...</td>\n",
       "      <td>1.000000e+00</td>\n",
       "      <td>1.000000e+00</td>\n",
       "      <td>1.000000e+00</td>\n",
       "      <td>1.000000e+00</td>\n",
       "      <td>1.000000e+00</td>\n",
       "      <td>1.000000e+00</td>\n",
       "      <td>1.000000e+00</td>\n",
       "      <td>1.000000e+00</td>\n",
       "      <td>1.000000e+00</td>\n",
       "      <td>-5.000000e+00</td>\n",
       "    </tr>\n",
       "    <tr>\n",
       "      <th>25%</th>\n",
       "      <td>1.622500e+03</td>\n",
       "      <td>1.623000e+03</td>\n",
       "      <td>1.623500e+03</td>\n",
       "      <td>1.624000e+03</td>\n",
       "      <td>1.624500e+03</td>\n",
       "      <td>1.625000e+03</td>\n",
       "      <td>1.625500e+03</td>\n",
       "      <td>1.626000e+03</td>\n",
       "      <td>1.626500e+03</td>\n",
       "      <td>1.627000e+03</td>\n",
       "      <td>...</td>\n",
       "      <td>6.000000e+00</td>\n",
       "      <td>5.000000e+00</td>\n",
       "      <td>5.000000e+00</td>\n",
       "      <td>4.000000e+00</td>\n",
       "      <td>3.000000e+00</td>\n",
       "      <td>3.000000e+00</td>\n",
       "      <td>2.000000e+00</td>\n",
       "      <td>2.000000e+00</td>\n",
       "      <td>2.000000e+00</td>\n",
       "      <td>-5.000000e-01</td>\n",
       "    </tr>\n",
       "    <tr>\n",
       "      <th>50%</th>\n",
       "      <td>1.643500e+03</td>\n",
       "      <td>1.644000e+03</td>\n",
       "      <td>1.644500e+03</td>\n",
       "      <td>1.645000e+03</td>\n",
       "      <td>1.645500e+03</td>\n",
       "      <td>1.646000e+03</td>\n",
       "      <td>1.646500e+03</td>\n",
       "      <td>1.647000e+03</td>\n",
       "      <td>1.647500e+03</td>\n",
       "      <td>1.648000e+03</td>\n",
       "      <td>...</td>\n",
       "      <td>9.000000e+00</td>\n",
       "      <td>8.000000e+00</td>\n",
       "      <td>8.000000e+00</td>\n",
       "      <td>7.000000e+00</td>\n",
       "      <td>6.000000e+00</td>\n",
       "      <td>6.000000e+00</td>\n",
       "      <td>6.000000e+00</td>\n",
       "      <td>6.000000e+00</td>\n",
       "      <td>6.000000e+00</td>\n",
       "      <td>0.000000e+00</td>\n",
       "    </tr>\n",
       "    <tr>\n",
       "      <th>75%</th>\n",
       "      <td>1.660500e+03</td>\n",
       "      <td>1.661000e+03</td>\n",
       "      <td>1.661500e+03</td>\n",
       "      <td>1.662000e+03</td>\n",
       "      <td>1.662500e+03</td>\n",
       "      <td>1.663000e+03</td>\n",
       "      <td>1.663500e+03</td>\n",
       "      <td>1.664000e+03</td>\n",
       "      <td>1.664500e+03</td>\n",
       "      <td>1.665000e+03</td>\n",
       "      <td>...</td>\n",
       "      <td>1.600000e+01</td>\n",
       "      <td>1.500000e+01</td>\n",
       "      <td>1.500000e+01</td>\n",
       "      <td>1.500000e+01</td>\n",
       "      <td>1.600000e+01</td>\n",
       "      <td>1.700000e+01</td>\n",
       "      <td>2.000000e+01</td>\n",
       "      <td>2.100000e+01</td>\n",
       "      <td>2.200000e+01</td>\n",
       "      <td>5.000000e-01</td>\n",
       "    </tr>\n",
       "    <tr>\n",
       "      <th>max</th>\n",
       "      <td>1.709000e+03</td>\n",
       "      <td>1.709500e+03</td>\n",
       "      <td>1.710000e+03</td>\n",
       "      <td>1.710500e+03</td>\n",
       "      <td>1.711000e+03</td>\n",
       "      <td>1.711500e+03</td>\n",
       "      <td>1.712000e+03</td>\n",
       "      <td>1.712500e+03</td>\n",
       "      <td>1.713000e+03</td>\n",
       "      <td>1.713500e+03</td>\n",
       "      <td>...</td>\n",
       "      <td>5.390000e+02</td>\n",
       "      <td>5.480000e+02</td>\n",
       "      <td>5.460000e+02</td>\n",
       "      <td>5.450000e+02</td>\n",
       "      <td>5.370000e+02</td>\n",
       "      <td>6.020000e+02</td>\n",
       "      <td>5.330000e+02</td>\n",
       "      <td>4.830000e+02</td>\n",
       "      <td>4.830000e+02</td>\n",
       "      <td>5.000000e+00</td>\n",
       "    </tr>\n",
       "  </tbody>\n",
       "</table>\n",
       "<p>8 rows × 61 columns</p>\n",
       "</div>"
      ],
      "text/plain": [
       "           askRate0      askRate1      askRate2      askRate3      askRate4  \\\n",
       "count  2.999999e+06  2.999999e+06  2.999999e+06  2.999999e+06  2.999999e+06   \n",
       "mean   1.642373e+03  1.642860e+03  1.643348e+03  1.643833e+03  1.644313e+03   \n",
       "std    2.687644e+01  2.747233e+01  2.792671e+01  2.845367e+01  2.909564e+01   \n",
       "min    1.575500e+03  0.000000e+00  0.000000e+00  0.000000e+00  0.000000e+00   \n",
       "25%    1.622500e+03  1.623000e+03  1.623500e+03  1.624000e+03  1.624500e+03   \n",
       "50%    1.643500e+03  1.644000e+03  1.644500e+03  1.645000e+03  1.645500e+03   \n",
       "75%    1.660500e+03  1.661000e+03  1.661500e+03  1.662000e+03  1.662500e+03   \n",
       "max    1.709000e+03  1.709500e+03  1.710000e+03  1.710500e+03  1.711000e+03   \n",
       "\n",
       "           askRate5      askRate6      askRate7      askRate8      askRate9  \\\n",
       "count  2.999999e+06  2.999999e+06  2.999999e+06  2.999999e+06  2.999999e+06   \n",
       "mean   1.644795e+03  1.645280e+03  1.645768e+03  1.646261e+03  1.646762e+03   \n",
       "std    2.963349e+01  3.014723e+01  3.060886e+01  3.100550e+01  3.138272e+01   \n",
       "min    0.000000e+00  0.000000e+00  0.000000e+00  0.000000e+00  0.000000e+00   \n",
       "25%    1.625000e+03  1.625500e+03  1.626000e+03  1.626500e+03  1.627000e+03   \n",
       "50%    1.646000e+03  1.646500e+03  1.647000e+03  1.647500e+03  1.648000e+03   \n",
       "75%    1.663000e+03  1.663500e+03  1.664000e+03  1.664500e+03  1.665000e+03   \n",
       "max    1.711500e+03  1.712000e+03  1.712500e+03  1.713000e+03  1.713500e+03   \n",
       "\n",
       "           ...           bidSize6      bidSize7      bidSize8      bidSize9  \\\n",
       "count      ...       2.999999e+06  2.999999e+06  2.999999e+06  2.999999e+06   \n",
       "mean       ...       1.658825e+01  1.583800e+01  1.603431e+01  1.589281e+01   \n",
       "std        ...       2.610603e+01  2.645040e+01  2.745232e+01  2.800111e+01   \n",
       "min        ...       1.000000e+00  1.000000e+00  1.000000e+00  1.000000e+00   \n",
       "25%        ...       6.000000e+00  5.000000e+00  5.000000e+00  4.000000e+00   \n",
       "50%        ...       9.000000e+00  8.000000e+00  8.000000e+00  7.000000e+00   \n",
       "75%        ...       1.600000e+01  1.500000e+01  1.500000e+01  1.500000e+01   \n",
       "max        ...       5.390000e+02  5.480000e+02  5.460000e+02  5.450000e+02   \n",
       "\n",
       "          bidSize10     bidSize11     bidSize12     bidSize13     bidSize14  \\\n",
       "count  2.999999e+06  2.999999e+06  2.999999e+06  2.999999e+06  2.999999e+06   \n",
       "mean   1.657957e+01  1.678613e+01  1.809773e+01  1.858412e+01  1.949315e+01   \n",
       "std    3.055616e+01  3.161555e+01  3.379460e+01  3.526231e+01  3.590462e+01   \n",
       "min    1.000000e+00  1.000000e+00  1.000000e+00  1.000000e+00  1.000000e+00   \n",
       "25%    3.000000e+00  3.000000e+00  2.000000e+00  2.000000e+00  2.000000e+00   \n",
       "50%    6.000000e+00  6.000000e+00  6.000000e+00  6.000000e+00  6.000000e+00   \n",
       "75%    1.600000e+01  1.700000e+01  2.000000e+01  2.100000e+01  2.200000e+01   \n",
       "max    5.370000e+02  6.020000e+02  5.330000e+02  4.830000e+02  4.830000e+02   \n",
       "\n",
       "                  y  \n",
       "count  2.999999e+06  \n",
       "mean  -7.023336e-04  \n",
       "std    7.085593e-01  \n",
       "min   -5.000000e+00  \n",
       "25%   -5.000000e-01  \n",
       "50%    0.000000e+00  \n",
       "75%    5.000000e-01  \n",
       "max    5.000000e+00  \n",
       "\n",
       "[8 rows x 61 columns]"
      ]
     },
     "execution_count": 9,
     "metadata": {},
     "output_type": "execute_result"
    }
   ],
   "source": [
    "df.describe()"
   ]
  },
  {
   "cell_type": "code",
   "execution_count": 10,
   "metadata": {},
   "outputs": [],
   "source": [
    "# df.corr()"
   ]
  },
  {
   "cell_type": "markdown",
   "metadata": {},
   "source": [
    "### Data preparation"
   ]
  },
  {
   "cell_type": "code",
   "execution_count": 4,
   "metadata": {},
   "outputs": [],
   "source": [
    "# store independent and dependent variables to dataframes\n",
    "X = df.drop('y', axis=1)\n",
    "Y = df['y']"
   ]
  },
  {
   "cell_type": "code",
   "execution_count": 5,
   "metadata": {},
   "outputs": [],
   "source": [
    "# split the dataset into training and test sets\n",
    "X_train, X_test, y_train, y_test = train_test_split(X, Y, test_size=0.3, random_state=1) "
   ]
  },
  {
   "cell_type": "code",
   "execution_count": 13,
   "metadata": {},
   "outputs": [
    {
     "data": {
      "text/html": [
       "<div>\n",
       "<style scoped>\n",
       "    .dataframe tbody tr th:only-of-type {\n",
       "        vertical-align: middle;\n",
       "    }\n",
       "\n",
       "    .dataframe tbody tr th {\n",
       "        vertical-align: top;\n",
       "    }\n",
       "\n",
       "    .dataframe thead th {\n",
       "        text-align: right;\n",
       "    }\n",
       "</style>\n",
       "<table border=\"1\" class=\"dataframe\">\n",
       "  <thead>\n",
       "    <tr style=\"text-align: right;\">\n",
       "      <th></th>\n",
       "      <th>askRate0</th>\n",
       "      <th>askRate1</th>\n",
       "      <th>askRate2</th>\n",
       "      <th>askRate3</th>\n",
       "      <th>askRate4</th>\n",
       "      <th>askRate5</th>\n",
       "      <th>askRate6</th>\n",
       "      <th>askRate7</th>\n",
       "      <th>askRate8</th>\n",
       "      <th>askRate9</th>\n",
       "      <th>...</th>\n",
       "      <th>bidSize5</th>\n",
       "      <th>bidSize6</th>\n",
       "      <th>bidSize7</th>\n",
       "      <th>bidSize8</th>\n",
       "      <th>bidSize9</th>\n",
       "      <th>bidSize10</th>\n",
       "      <th>bidSize11</th>\n",
       "      <th>bidSize12</th>\n",
       "      <th>bidSize13</th>\n",
       "      <th>bidSize14</th>\n",
       "    </tr>\n",
       "  </thead>\n",
       "  <tbody>\n",
       "    <tr>\n",
       "      <th>1028186</th>\n",
       "      <td>1696.5</td>\n",
       "      <td>1697.0</td>\n",
       "      <td>1697.5</td>\n",
       "      <td>1698.0</td>\n",
       "      <td>1698.5</td>\n",
       "      <td>1699.0</td>\n",
       "      <td>1699.5</td>\n",
       "      <td>1700.0</td>\n",
       "      <td>1700.5</td>\n",
       "      <td>1701.0</td>\n",
       "      <td>...</td>\n",
       "      <td>6.0</td>\n",
       "      <td>5.0</td>\n",
       "      <td>8.0</td>\n",
       "      <td>2.0</td>\n",
       "      <td>10.0</td>\n",
       "      <td>7.0</td>\n",
       "      <td>9.0</td>\n",
       "      <td>30.0</td>\n",
       "      <td>11.0</td>\n",
       "      <td>9.0</td>\n",
       "    </tr>\n",
       "    <tr>\n",
       "      <th>1677599</th>\n",
       "      <td>1629.0</td>\n",
       "      <td>1629.5</td>\n",
       "      <td>1630.0</td>\n",
       "      <td>1630.5</td>\n",
       "      <td>1631.0</td>\n",
       "      <td>1631.5</td>\n",
       "      <td>1632.0</td>\n",
       "      <td>1632.5</td>\n",
       "      <td>1633.0</td>\n",
       "      <td>1633.5</td>\n",
       "      <td>...</td>\n",
       "      <td>10.0</td>\n",
       "      <td>7.0</td>\n",
       "      <td>8.0</td>\n",
       "      <td>4.0</td>\n",
       "      <td>11.0</td>\n",
       "      <td>1.0</td>\n",
       "      <td>13.0</td>\n",
       "      <td>2.0</td>\n",
       "      <td>2.0</td>\n",
       "      <td>1.0</td>\n",
       "    </tr>\n",
       "    <tr>\n",
       "      <th>2591234</th>\n",
       "      <td>1645.0</td>\n",
       "      <td>1645.5</td>\n",
       "      <td>1646.0</td>\n",
       "      <td>1646.5</td>\n",
       "      <td>1647.0</td>\n",
       "      <td>1647.5</td>\n",
       "      <td>1648.0</td>\n",
       "      <td>1648.5</td>\n",
       "      <td>1649.0</td>\n",
       "      <td>1649.5</td>\n",
       "      <td>...</td>\n",
       "      <td>33.0</td>\n",
       "      <td>11.0</td>\n",
       "      <td>50.0</td>\n",
       "      <td>67.0</td>\n",
       "      <td>106.0</td>\n",
       "      <td>4.0</td>\n",
       "      <td>27.0</td>\n",
       "      <td>2.0</td>\n",
       "      <td>28.0</td>\n",
       "      <td>3.0</td>\n",
       "    </tr>\n",
       "    <tr>\n",
       "      <th>2531724</th>\n",
       "      <td>1669.5</td>\n",
       "      <td>1670.0</td>\n",
       "      <td>1670.5</td>\n",
       "      <td>1671.0</td>\n",
       "      <td>1671.5</td>\n",
       "      <td>1672.0</td>\n",
       "      <td>1672.5</td>\n",
       "      <td>1673.0</td>\n",
       "      <td>1673.5</td>\n",
       "      <td>1674.0</td>\n",
       "      <td>...</td>\n",
       "      <td>8.0</td>\n",
       "      <td>19.0</td>\n",
       "      <td>10.0</td>\n",
       "      <td>9.0</td>\n",
       "      <td>6.0</td>\n",
       "      <td>2.0</td>\n",
       "      <td>3.0</td>\n",
       "      <td>2.0</td>\n",
       "      <td>26.0</td>\n",
       "      <td>29.0</td>\n",
       "    </tr>\n",
       "    <tr>\n",
       "      <th>2273790</th>\n",
       "      <td>1696.5</td>\n",
       "      <td>1697.0</td>\n",
       "      <td>1697.5</td>\n",
       "      <td>1698.0</td>\n",
       "      <td>1698.5</td>\n",
       "      <td>1699.0</td>\n",
       "      <td>1699.5</td>\n",
       "      <td>1700.0</td>\n",
       "      <td>1700.5</td>\n",
       "      <td>1701.0</td>\n",
       "      <td>...</td>\n",
       "      <td>5.0</td>\n",
       "      <td>4.0</td>\n",
       "      <td>12.0</td>\n",
       "      <td>4.0</td>\n",
       "      <td>30.0</td>\n",
       "      <td>2.0</td>\n",
       "      <td>100.0</td>\n",
       "      <td>7.0</td>\n",
       "      <td>48.0</td>\n",
       "      <td>25.0</td>\n",
       "    </tr>\n",
       "  </tbody>\n",
       "</table>\n",
       "<p>5 rows × 60 columns</p>\n",
       "</div>"
      ],
      "text/plain": [
       "         askRate0  askRate1  askRate2  askRate3  askRate4  askRate5  askRate6  \\\n",
       "1028186    1696.5    1697.0    1697.5    1698.0    1698.5    1699.0    1699.5   \n",
       "1677599    1629.0    1629.5    1630.0    1630.5    1631.0    1631.5    1632.0   \n",
       "2591234    1645.0    1645.5    1646.0    1646.5    1647.0    1647.5    1648.0   \n",
       "2531724    1669.5    1670.0    1670.5    1671.0    1671.5    1672.0    1672.5   \n",
       "2273790    1696.5    1697.0    1697.5    1698.0    1698.5    1699.0    1699.5   \n",
       "\n",
       "         askRate7  askRate8  askRate9    ...      bidSize5  bidSize6  \\\n",
       "1028186    1700.0    1700.5    1701.0    ...           6.0       5.0   \n",
       "1677599    1632.5    1633.0    1633.5    ...          10.0       7.0   \n",
       "2591234    1648.5    1649.0    1649.5    ...          33.0      11.0   \n",
       "2531724    1673.0    1673.5    1674.0    ...           8.0      19.0   \n",
       "2273790    1700.0    1700.5    1701.0    ...           5.0       4.0   \n",
       "\n",
       "         bidSize7  bidSize8  bidSize9  bidSize10  bidSize11  bidSize12  \\\n",
       "1028186       8.0       2.0      10.0        7.0        9.0       30.0   \n",
       "1677599       8.0       4.0      11.0        1.0       13.0        2.0   \n",
       "2591234      50.0      67.0     106.0        4.0       27.0        2.0   \n",
       "2531724      10.0       9.0       6.0        2.0        3.0        2.0   \n",
       "2273790      12.0       4.0      30.0        2.0      100.0        7.0   \n",
       "\n",
       "         bidSize13  bidSize14  \n",
       "1028186       11.0        9.0  \n",
       "1677599        2.0        1.0  \n",
       "2591234       28.0        3.0  \n",
       "2531724       26.0       29.0  \n",
       "2273790       48.0       25.0  \n",
       "\n",
       "[5 rows x 60 columns]"
      ]
     },
     "execution_count": 13,
     "metadata": {},
     "output_type": "execute_result"
    }
   ],
   "source": [
    "X_train[:5]"
   ]
  },
  {
   "cell_type": "code",
   "execution_count": 14,
   "metadata": {},
   "outputs": [
    {
     "data": {
      "text/plain": [
       "1028186   -0.50\n",
       "1677599    1.75\n",
       "2591234   -0.50\n",
       "2531724    0.00\n",
       "2273790    0.75\n",
       "Name: y, dtype: float64"
      ]
     },
     "execution_count": 14,
     "metadata": {},
     "output_type": "execute_result"
    }
   ],
   "source": [
    "y_train[:5]"
   ]
  },
  {
   "cell_type": "code",
   "execution_count": 15,
   "metadata": {},
   "outputs": [
    {
     "data": {
      "text/plain": [
       "askRate0     2099999\n",
       "askRate1     2099999\n",
       "askRate2     2099999\n",
       "askRate3     2099999\n",
       "askRate4     2099999\n",
       "askRate5     2099999\n",
       "askRate6     2099999\n",
       "askRate7     2099999\n",
       "askRate8     2099999\n",
       "askRate9     2099999\n",
       "askRate10    2099999\n",
       "askRate11    2099999\n",
       "askRate12    2099999\n",
       "askRate13    2099999\n",
       "askRate14    2099999\n",
       "askSize0     2099999\n",
       "askSize1     2099999\n",
       "askSize2     2099999\n",
       "askSize3     2099999\n",
       "askSize4     2099999\n",
       "askSize5     2099999\n",
       "askSize6     2099999\n",
       "askSize7     2099999\n",
       "askSize8     2099999\n",
       "askSize9     2099999\n",
       "askSize10    2099999\n",
       "askSize11    2099999\n",
       "askSize12    2099999\n",
       "askSize13    2099999\n",
       "askSize14    2099999\n",
       "bidRate0     2099999\n",
       "bidRate1     2099999\n",
       "bidRate2     2099999\n",
       "bidRate3     2099999\n",
       "bidRate4     2099999\n",
       "bidRate5     2099999\n",
       "bidRate6     2099999\n",
       "bidRate7     2099999\n",
       "bidRate8     2099999\n",
       "bidRate9     2099999\n",
       "bidRate10    2099999\n",
       "bidRate11    2099999\n",
       "bidRate12    2099999\n",
       "bidRate13    2099999\n",
       "bidRate14    2099999\n",
       "bidSize0     2099999\n",
       "bidSize1     2099999\n",
       "bidSize2     2099999\n",
       "bidSize3     2099999\n",
       "bidSize4     2099999\n",
       "bidSize5     2099999\n",
       "bidSize6     2099999\n",
       "bidSize7     2099999\n",
       "bidSize8     2099999\n",
       "bidSize9     2099999\n",
       "bidSize10    2099999\n",
       "bidSize11    2099999\n",
       "bidSize12    2099999\n",
       "bidSize13    2099999\n",
       "bidSize14    2099999\n",
       "dtype: int64"
      ]
     },
     "execution_count": 15,
     "metadata": {},
     "output_type": "execute_result"
    }
   ],
   "source": [
    "X_train.count()"
   ]
  },
  {
   "cell_type": "markdown",
   "metadata": {},
   "source": [
    "## Creating the model"
   ]
  },
  {
   "cell_type": "markdown",
   "metadata": {},
   "source": [
    "### Linear Regression"
   ]
  },
  {
   "cell_type": "code",
   "execution_count": 16,
   "metadata": {},
   "outputs": [
    {
     "data": {
      "text/plain": [
       "LinearRegression(copy_X=True, fit_intercept=True, n_jobs=1, normalize=False)"
      ]
     },
     "execution_count": 16,
     "metadata": {},
     "output_type": "execute_result"
    }
   ],
   "source": [
    "# initialise model\n",
    "lr = LinearRegression()\n",
    "lr"
   ]
  },
  {
   "cell_type": "code",
   "execution_count": 17,
   "metadata": {},
   "outputs": [
    {
     "data": {
      "text/plain": [
       "LinearRegression(copy_X=True, fit_intercept=True, n_jobs=1, normalize=False)"
      ]
     },
     "execution_count": 17,
     "metadata": {},
     "output_type": "execute_result"
    }
   ],
   "source": [
    "lr.fit(X_train, y_train)"
   ]
  },
  {
   "cell_type": "code",
   "execution_count": 18,
   "metadata": {},
   "outputs": [],
   "source": [
    "yhat = lr.predict(X_test)"
   ]
  },
  {
   "cell_type": "markdown",
   "metadata": {},
   "source": [
    "### Evaluating model"
   ]
  },
  {
   "cell_type": "code",
   "execution_count": 6,
   "metadata": {},
   "outputs": [],
   "source": [
    "from sklearn.metrics import mean_squared_error, r2_score"
   ]
  },
  {
   "cell_type": "code",
   "execution_count": 20,
   "metadata": {},
   "outputs": [
    {
     "data": {
      "text/plain": [
       "0.4970624897361555"
      ]
     },
     "execution_count": 20,
     "metadata": {},
     "output_type": "execute_result"
    }
   ],
   "source": [
    "mean_squared_error(y_test, yhat)"
   ]
  },
  {
   "cell_type": "markdown",
   "metadata": {},
   "source": [
    "### Visualizations"
   ]
  },
  {
   "cell_type": "code",
   "execution_count": 7,
   "metadata": {},
   "outputs": [],
   "source": [
    "import matplotlib.pyplot as plt\n",
    "import seaborn as sns"
   ]
  },
  {
   "cell_type": "code",
   "execution_count": 22,
   "metadata": {},
   "outputs": [
    {
     "data": {
      "image/png": "[encoded data removed]",
      "text/plain": [
       "<Figure size 1440x720 with 1 Axes>"
      ]
     },
     "metadata": {},
     "output_type": "display_data"
    }
   ],
   "source": [
    "plt.figure(figsize=(20, 10))\n",
    "\n",
    "\n",
    "ax1 = sns.distplot(y_test, hist=False, color=\"r\", label=\"Actual Value\")\n",
    "sns.distplot(yhat, hist=False, color=\"b\", label=\"Fitted Values\" , ax=ax1)\n",
    "\n",
    "\n",
    "plt.title('Actual vs Fitted Values for Price')\n",
    "plt.xlabel('Price (in dollars)')\n",
    "plt.ylabel('Proportion of bids')\n",
    "\n",
    "plt.show()"
   ]
  },
  {
   "cell_type": "code",
   "execution_count": null,
   "metadata": {},
   "outputs": [],
   "source": [
    "r2_score(y_test, yhat)"
   ]
  },
  {
   "cell_type": "markdown",
   "metadata": {},
   "source": [
    "### Gradient Boosting"
   ]
  },
  {
   "cell_type": "code",
   "execution_count": 23,
   "metadata": {},
   "outputs": [],
   "source": [
    "from sklearn import ensemble"
   ]
  },
  {
   "cell_type": "code",
   "execution_count": 24,
   "metadata": {},
   "outputs": [],
   "source": [
    "# params = {'n_estimators': 10, 'max_depth': 2, 'min_samples_split': 2,\n",
    "          #'learning_rate': 0.01, 'n_jobs':-1}\n",
    "\n",
    "clf = ensemble.GradientBoostingRegressor(n_estimators=50, max_depth=2)"
   ]
  },
  {
   "cell_type": "code",
   "execution_count": 25,
   "metadata": {},
   "outputs": [
    {
     "data": {
      "text/plain": [
       "GradientBoostingRegressor(alpha=0.9, criterion='friedman_mse', init=None,\n",
       "             learning_rate=0.1, loss='ls', max_depth=2, max_features=None,\n",
       "             max_leaf_nodes=None, min_impurity_decrease=0.0,\n",
       "             min_impurity_split=None, min_samples_leaf=1,\n",
       "             min_samples_split=2, min_weight_fraction_leaf=0.0,\n",
       "             n_estimators=50, presort='auto', random_state=None,\n",
       "             subsample=1.0, verbose=0, warm_start=False)"
      ]
     },
     "execution_count": 25,
     "metadata": {},
     "output_type": "execute_result"
    }
   ],
   "source": [
    "clf.fit(X_train, y_train)"
   ]
  },
  {
   "cell_type": "code",
   "execution_count": 26,
   "metadata": {},
   "outputs": [],
   "source": [
    "yhat2 = clf.predict(X_test)"
   ]
  },
  {
   "cell_type": "code",
   "execution_count": 27,
   "metadata": {},
   "outputs": [
    {
     "data": {
      "text/plain": [
       "0.49147648041931763"
      ]
     },
     "execution_count": 27,
     "metadata": {},
     "output_type": "execute_result"
    }
   ],
   "source": [
    "mean_squared_error(y_test, yhat2)\n"
   ]
  },
  {
   "cell_type": "code",
   "execution_count": 28,
   "metadata": {},
   "outputs": [
    {
     "data": {
      "image/png": "[encoded data removed]",
      "text/plain": [
       "<Figure size 1440x720 with 1 Axes>"
      ]
     },
     "metadata": {},
     "output_type": "display_data"
    }
   ],
   "source": [
    "plt.figure(figsize=(20, 10))\n",
    "\n",
    "\n",
    "ax1 = sns.distplot(y_test, hist=False, color=\"r\", label=\"Actual Value\")\n",
    "sns.distplot(yhat2, hist=False, color=\"b\", label=\"Fitted Values\" , ax=ax1)\n",
    "\n",
    "\n",
    "plt.title('Actual vs Fitted Values for Price')\n",
    "plt.xlabel('Price (in dollars)')\n",
    "plt.ylabel('Proportion of bids')\n",
    "\n",
    "plt.show()"
   ]
  },
  {
   "cell_type": "code",
   "execution_count": null,
   "metadata": {},
   "outputs": [],
   "source": [
    "r2_score(y_test, yhat2)"
   ]
  },
  {
   "cell_type": "markdown",
   "metadata": {},
   "source": [
    "### Random Forest Regressor"
   ]
  },
  {
   "cell_type": "code",
   "execution_count": 8,
   "metadata": {},
   "outputs": [],
   "source": [
    " from sklearn.ensemble import RandomForestRegressor"
   ]
  },
  {
   "cell_type": "code",
   "execution_count": 9,
   "metadata": {},
   "outputs": [],
   "source": [
    "regr = RandomForestRegressor(n_estimators=5, n_jobs=4)"
   ]
  },
  {
   "cell_type": "code",
   "execution_count": 10,
   "metadata": {},
   "outputs": [
    {
     "data": {
      "text/plain": [
       "RandomForestRegressor(bootstrap=True, criterion='mse', max_depth=None,\n",
       "           max_features='auto', max_leaf_nodes=None,\n",
       "           min_impurity_decrease=0.0, min_impurity_split=None,\n",
       "           min_samples_leaf=1, min_samples_split=2,\n",
       "           min_weight_fraction_leaf=0.0, n_estimators=5, n_jobs=4,\n",
       "           oob_score=False, random_state=None, verbose=0, warm_start=False)"
      ]
     },
     "execution_count": 10,
     "metadata": {},
     "output_type": "execute_result"
    }
   ],
   "source": [
    "regr.fit(X_train, y_train)  "
   ]
  },
  {
   "cell_type": "code",
   "execution_count": 11,
   "metadata": {},
   "outputs": [],
   "source": [
    "yhat3 = regr.predict(X_test)"
   ]
  },
  {
   "cell_type": "code",
   "execution_count": 12,
   "metadata": {},
   "outputs": [
    {
     "data": {
      "text/plain": [
       "0.07246297934117318"
      ]
     },
     "execution_count": 12,
     "metadata": {},
     "output_type": "execute_result"
    }
   ],
   "source": [
    "mean_squared_error(y_test, yhat3)"
   ]
  },
  {
   "cell_type": "code",
   "execution_count": 13,
   "metadata": {},
   "outputs": [
    {
     "data": {
      "image/png": "[encoded data removed]",
      "text/plain": [
       "<Figure size 1440x720 with 1 Axes>"
      ]
     },
     "metadata": {},
     "output_type": "display_data"
    }
   ],
   "source": [
    "plt.figure(figsize=(20, 10))\n",
    "\n",
    "\n",
    "ax1 = sns.distplot(y_test, hist=False, color=\"r\", label=\"Actual Value\")\n",
    "sns.distplot(yhat3, hist=False, color=\"b\", label=\"Fitted Values\" , ax=ax1)\n",
    "\n",
    "\n",
    "plt.title('Actual vs Fitted Values for Price')\n",
    "plt.xlabel('Price (in dollars)')\n",
    "plt.ylabel('Proportion of bids')\n",
    "\n",
    "plt.show()"
   ]
  },
  {
   "cell_type": "code",
   "execution_count": 14,
   "metadata": {},
   "outputs": [
    {
     "data": {
      "text/plain": [
       "0.8552004279401384"
      ]
     },
     "execution_count": 14,
     "metadata": {},
     "output_type": "execute_result"
    }
   ],
   "source": [
    "r2_score(y_test, yhat3)"
   ]
  },
  {
   "cell_type": "markdown",
   "metadata": {},
   "source": [
    "### Testing with data.csv (out of sample testing)"
   ]
  },
  {
   "cell_type": "code",
   "execution_count": 22,
   "metadata": {},
   "outputs": [],
   "source": [
    "df2=pd.read_csv('data.csv')"
   ]
  },
  {
   "cell_type": "code",
   "execution_count": 27,
   "metadata": {},
   "outputs": [],
   "source": [
    "df2.fillna(0, inplace = True)"
   ]
  },
  {
   "cell_type": "code",
   "execution_count": 28,
   "metadata": {},
   "outputs": [
    {
     "data": {
      "text/html": [
       "<div>\n",
       "<style scoped>\n",
       "    .dataframe tbody tr th:only-of-type {\n",
       "        vertical-align: middle;\n",
       "    }\n",
       "\n",
       "    .dataframe tbody tr th {\n",
       "        vertical-align: top;\n",
       "    }\n",
       "\n",
       "    .dataframe thead th {\n",
       "        text-align: right;\n",
       "    }\n",
       "</style>\n",
       "<table border=\"1\" class=\"dataframe\">\n",
       "  <thead>\n",
       "    <tr style=\"text-align: right;\">\n",
       "      <th></th>\n",
       "      <th>askRate0</th>\n",
       "      <th>askRate1</th>\n",
       "      <th>askRate2</th>\n",
       "      <th>askRate3</th>\n",
       "      <th>askRate4</th>\n",
       "      <th>askRate5</th>\n",
       "      <th>askRate6</th>\n",
       "      <th>askRate7</th>\n",
       "      <th>askRate8</th>\n",
       "      <th>askRate9</th>\n",
       "      <th>...</th>\n",
       "      <th>bidSize6</th>\n",
       "      <th>bidSize7</th>\n",
       "      <th>bidSize8</th>\n",
       "      <th>bidSize9</th>\n",
       "      <th>bidSize10</th>\n",
       "      <th>bidSize11</th>\n",
       "      <th>bidSize12</th>\n",
       "      <th>bidSize13</th>\n",
       "      <th>bidSize14</th>\n",
       "      <th>y</th>\n",
       "    </tr>\n",
       "  </thead>\n",
       "  <tbody>\n",
       "    <tr>\n",
       "      <th>0</th>\n",
       "      <td>1619.5</td>\n",
       "      <td>1620.0</td>\n",
       "      <td>1621.0</td>\n",
       "      <td>0.0</td>\n",
       "      <td>0.0</td>\n",
       "      <td>0.0</td>\n",
       "      <td>0.0</td>\n",
       "      <td>0.0</td>\n",
       "      <td>0.0</td>\n",
       "      <td>0.0</td>\n",
       "      <td>...</td>\n",
       "      <td>20.0</td>\n",
       "      <td>27.0</td>\n",
       "      <td>11.0</td>\n",
       "      <td>14.0</td>\n",
       "      <td>35.0</td>\n",
       "      <td>10.0</td>\n",
       "      <td>1.0</td>\n",
       "      <td>10.0</td>\n",
       "      <td>13.0</td>\n",
       "      <td>-0.5</td>\n",
       "    </tr>\n",
       "    <tr>\n",
       "      <th>1</th>\n",
       "      <td>1619.5</td>\n",
       "      <td>1620.0</td>\n",
       "      <td>1621.0</td>\n",
       "      <td>1621.5</td>\n",
       "      <td>0.0</td>\n",
       "      <td>0.0</td>\n",
       "      <td>0.0</td>\n",
       "      <td>0.0</td>\n",
       "      <td>0.0</td>\n",
       "      <td>0.0</td>\n",
       "      <td>...</td>\n",
       "      <td>20.0</td>\n",
       "      <td>27.0</td>\n",
       "      <td>11.0</td>\n",
       "      <td>14.0</td>\n",
       "      <td>35.0</td>\n",
       "      <td>10.0</td>\n",
       "      <td>1.0</td>\n",
       "      <td>10.0</td>\n",
       "      <td>13.0</td>\n",
       "      <td>-0.5</td>\n",
       "    </tr>\n",
       "    <tr>\n",
       "      <th>2</th>\n",
       "      <td>1619.5</td>\n",
       "      <td>1620.0</td>\n",
       "      <td>1621.0</td>\n",
       "      <td>1621.5</td>\n",
       "      <td>1622.0</td>\n",
       "      <td>0.0</td>\n",
       "      <td>0.0</td>\n",
       "      <td>0.0</td>\n",
       "      <td>0.0</td>\n",
       "      <td>0.0</td>\n",
       "      <td>...</td>\n",
       "      <td>20.0</td>\n",
       "      <td>27.0</td>\n",
       "      <td>11.0</td>\n",
       "      <td>14.0</td>\n",
       "      <td>35.0</td>\n",
       "      <td>10.0</td>\n",
       "      <td>1.0</td>\n",
       "      <td>10.0</td>\n",
       "      <td>13.0</td>\n",
       "      <td>-0.5</td>\n",
       "    </tr>\n",
       "    <tr>\n",
       "      <th>3</th>\n",
       "      <td>1619.5</td>\n",
       "      <td>1620.0</td>\n",
       "      <td>1621.0</td>\n",
       "      <td>1621.5</td>\n",
       "      <td>1622.0</td>\n",
       "      <td>0.0</td>\n",
       "      <td>0.0</td>\n",
       "      <td>0.0</td>\n",
       "      <td>0.0</td>\n",
       "      <td>0.0</td>\n",
       "      <td>...</td>\n",
       "      <td>20.0</td>\n",
       "      <td>27.0</td>\n",
       "      <td>11.0</td>\n",
       "      <td>14.0</td>\n",
       "      <td>35.0</td>\n",
       "      <td>10.0</td>\n",
       "      <td>1.0</td>\n",
       "      <td>10.0</td>\n",
       "      <td>13.0</td>\n",
       "      <td>-0.5</td>\n",
       "    </tr>\n",
       "    <tr>\n",
       "      <th>4</th>\n",
       "      <td>1619.5</td>\n",
       "      <td>1620.0</td>\n",
       "      <td>1621.0</td>\n",
       "      <td>1621.5</td>\n",
       "      <td>1622.0</td>\n",
       "      <td>0.0</td>\n",
       "      <td>0.0</td>\n",
       "      <td>0.0</td>\n",
       "      <td>0.0</td>\n",
       "      <td>0.0</td>\n",
       "      <td>...</td>\n",
       "      <td>20.0</td>\n",
       "      <td>27.0</td>\n",
       "      <td>11.0</td>\n",
       "      <td>14.0</td>\n",
       "      <td>35.0</td>\n",
       "      <td>10.0</td>\n",
       "      <td>1.0</td>\n",
       "      <td>10.0</td>\n",
       "      <td>13.0</td>\n",
       "      <td>-0.5</td>\n",
       "    </tr>\n",
       "  </tbody>\n",
       "</table>\n",
       "<p>5 rows × 61 columns</p>\n",
       "</div>"
      ],
      "text/plain": [
       "   askRate0  askRate1  askRate2  askRate3  askRate4  askRate5  askRate6  \\\n",
       "0    1619.5    1620.0    1621.0       0.0       0.0       0.0       0.0   \n",
       "1    1619.5    1620.0    1621.0    1621.5       0.0       0.0       0.0   \n",
       "2    1619.5    1620.0    1621.0    1621.5    1622.0       0.0       0.0   \n",
       "3    1619.5    1620.0    1621.0    1621.5    1622.0       0.0       0.0   \n",
       "4    1619.5    1620.0    1621.0    1621.5    1622.0       0.0       0.0   \n",
       "\n",
       "   askRate7  askRate8  askRate9 ...   bidSize6  bidSize7  bidSize8  bidSize9  \\\n",
       "0       0.0       0.0       0.0 ...       20.0      27.0      11.0      14.0   \n",
       "1       0.0       0.0       0.0 ...       20.0      27.0      11.0      14.0   \n",
       "2       0.0       0.0       0.0 ...       20.0      27.0      11.0      14.0   \n",
       "3       0.0       0.0       0.0 ...       20.0      27.0      11.0      14.0   \n",
       "4       0.0       0.0       0.0 ...       20.0      27.0      11.0      14.0   \n",
       "\n",
       "   bidSize10  bidSize11  bidSize12  bidSize13  bidSize14    y  \n",
       "0       35.0       10.0        1.0       10.0       13.0 -0.5  \n",
       "1       35.0       10.0        1.0       10.0       13.0 -0.5  \n",
       "2       35.0       10.0        1.0       10.0       13.0 -0.5  \n",
       "3       35.0       10.0        1.0       10.0       13.0 -0.5  \n",
       "4       35.0       10.0        1.0       10.0       13.0 -0.5  \n",
       "\n",
       "[5 rows x 61 columns]"
      ]
     },
     "execution_count": 28,
     "metadata": {},
     "output_type": "execute_result"
    }
   ],
   "source": [
    "df2.head()"
   ]
  },
  {
   "cell_type": "code",
   "execution_count": 29,
   "metadata": {},
   "outputs": [],
   "source": [
    "test2_x=df2.drop('y', axis = 1)"
   ]
  },
  {
   "cell_type": "code",
   "execution_count": 30,
   "metadata": {},
   "outputs": [],
   "source": [
    "test2_y=df2['y']"
   ]
  },
  {
   "cell_type": "code",
   "execution_count": 31,
   "metadata": {},
   "outputs": [],
   "source": [
    "yhat_test2 = regr.predict(test2_x)"
   ]
  },
  {
   "cell_type": "code",
   "execution_count": 32,
   "metadata": {},
   "outputs": [
    {
     "data": {
      "text/plain": [
       "0.53713876146789"
      ]
     },
     "execution_count": 32,
     "metadata": {},
     "output_type": "execute_result"
    }
   ],
   "source": [
    "r2_score(test2_y, yhat_test2)"
   ]
  },
  {
   "cell_type": "code",
   "execution_count": 33,
   "metadata": {},
   "outputs": [
    {
     "data": {
      "text/plain": [
       "0.12740372474747474"
      ]
     },
     "execution_count": 33,
     "metadata": {},
     "output_type": "execute_result"
    }
   ],
   "source": [
    "mean_squared_error(test2_y, yhat_test2)"
   ]
  },
  {
   "cell_type": "markdown",
   "metadata": {},
   "source": [
    "### XGBOOST"
   ]
  },
  {
   "cell_type": "code",
   "execution_count": 34,
   "metadata": {},
   "outputs": [
    {
     "name": "stdout",
     "output_type": "stream",
     "text": [
      "Collecting xgboost\n",
      "\u001b[?25l  Downloading https://files.pythonhosted.org/packages/96/84/4e2cae6247f397f83d8adc5c2a2a0c5d7d790a14a4c7400ff6574586f589/xgboost-0.90.tar.gz (676kB)\n",
      "\u001b[K    100% |################################| 686kB 16.1MB/s \n",
      "\u001b[?25hRequirement already satisfied: numpy in /opt/anaconda3/lib/python3.6/site-packages (from xgboost) (1.14.5)\n",
      "Requirement already satisfied: scipy in /opt/anaconda3/lib/python3.6/site-packages (from xgboost) (1.0.0)\n",
      "Building wheels for collected packages: xgboost\n",
      "  Running setup.py bdist_wheel for xgboost ... \u001b[?25ldone\n",
      "\u001b[?25h  Stored in directory: /home/jovyan/.cache/pip/wheels/e9/48/4d/de4187b5270dff71d3697c5a7857a1e2d9a0c63a28b3462eeb\n",
      "Successfully built xgboost\n",
      "Installing collected packages: xgboost\n",
      "Successfully installed xgboost-0.90\n",
      "\u001b[33mYou are using pip version 18.0, however version 19.1.1 is available.\n",
      "You should consider upgrading via the 'pip install --upgrade pip' command.\u001b[0m\n"
     ]
    }
   ],
   "source": [
    "!pip install xgboost"
   ]
  },
  {
   "cell_type": "code",
   "execution_count": 35,
   "metadata": {},
   "outputs": [],
   "source": [
    "import numpy as np\n",
    "from xgboost import XGBRegressor #The library to be imported\n",
    "\n",
    "model = XGBRegressor()"
   ]
  },
  {
   "cell_type": "code",
   "execution_count": 44,
   "metadata": {},
   "outputs": [
    {
     "name": "stderr",
     "output_type": "stream",
     "text": [
      "/opt/anaconda3/lib/python3.6/site-packages/xgboost/core.py:587: FutureWarning: Series.base is deprecated and will be removed in a future version\n",
      "  if getattr(data, 'base', None) is not None and \\\n"
     ]
    },
    {
     "name": "stdout",
     "output_type": "stream",
     "text": [
      "[21:12:05] WARNING: src/objective/regression_obj.cu:152: reg:linear is now deprecated in favor of reg:squarederror.\n"
     ]
    },
    {
     "data": {
      "text/plain": [
       "XGBRegressor(base_score=0.5, booster='gbtree', colsample_bylevel=1,\n",
       "       colsample_bynode=1, colsample_bytree=1, gamma=0,\n",
       "       importance_type='gain', learning_rate=0.1, max_delta_step=0,\n",
       "       max_depth=3, min_child_weight=1, missing=None, n_estimators=100,\n",
       "       n_jobs=1, nthread=None, objective='reg:linear', random_state=0,\n",
       "       reg_alpha=0, reg_lambda=1, scale_pos_weight=1, seed=None,\n",
       "       silent=None, subsample=1, verbosity=1)"
      ]
     },
     "execution_count": 44,
     "metadata": {},
     "output_type": "execute_result"
    }
   ],
   "source": [
    "model.fit(X_train, y_train, verbose=False)\n"
   ]
  },
  {
   "cell_type": "code",
   "execution_count": 45,
   "metadata": {},
   "outputs": [],
   "source": [
    "yhat4 = model.predict(X_test)"
   ]
  },
  {
   "cell_type": "code",
   "execution_count": 46,
   "metadata": {},
   "outputs": [
    {
     "data": {
      "text/plain": [
       "0.48513466577639"
      ]
     },
     "execution_count": 46,
     "metadata": {},
     "output_type": "execute_result"
    }
   ],
   "source": [
    "mean_squared_error(y_test, yhat4)"
   ]
  },
  {
   "cell_type": "code",
   "execution_count": 47,
   "metadata": {},
   "outputs": [
    {
     "data": {
      "image/png": "[encoded data removed]",
      "text/plain": [
       "<Figure size 1440x720 with 1 Axes>"
      ]
     },
     "metadata": {},
     "output_type": "display_data"
    }
   ],
   "source": [
    "plt.figure(figsize=(20, 10))\n",
    "\n",
    "\n",
    "ax1 = sns.distplot(y_test, hist=False, color=\"r\", label=\"Actual Value\")\n",
    "sns.distplot(yhat4, hist=False, color=\"b\", label=\"Fitted Values\" , ax=ax1)\n",
    "\n",
    "\n",
    "plt.title('Actual vs Fitted Values for Price')\n",
    "plt.xlabel('Price (in dollars)')\n",
    "plt.ylabel('Proportion of bids')\n",
    "\n",
    "plt.show()"
   ]
  },
  {
   "cell_type": "code",
   "execution_count": null,
   "metadata": {},
   "outputs": [],
   "source": [
    "r2_score(y_test, yhat4)"
   ]
  },
  {
   "cell_type": "markdown",
   "metadata": {},
   "source": [
    "### xgboost 2"
   ]
  },
  {
   "cell_type": "code",
   "execution_count": 36,
   "metadata": {},
   "outputs": [
    {
     "name": "stderr",
     "output_type": "stream",
     "text": [
      "/opt/anaconda3/lib/python3.6/site-packages/xgboost/core.py:587: FutureWarning: Series.base is deprecated and will be removed in a future version\n",
      "  if getattr(data, 'base', None) is not None and \\\n"
     ]
    }
   ],
   "source": [
    "import xgboost as xgb\n",
    "xgdmat=xgb.DMatrix(X_train,y_train)\n",
    "\n",
    "our_params={'objective':'reg:linear'}"
   ]
  },
  {
   "cell_type": "code",
   "execution_count": 37,
   "metadata": {},
   "outputs": [
    {
     "name": "stdout",
     "output_type": "stream",
     "text": [
      "[11:36:23] WARNING: src/objective/regression_obj.cu:152: reg:linear is now deprecated in favor of reg:squarederror.\n"
     ]
    }
   ],
   "source": [
    "final_gb=xgb.train(our_params,xgdmat)\n"
   ]
  },
  {
   "cell_type": "code",
   "execution_count": null,
   "metadata": {},
   "outputs": [],
   "source": [
    "tesdmat=xgb.DMatrix(X_test)"
   ]
  },
  {
   "cell_type": "code",
   "execution_count": 12,
   "metadata": {},
   "outputs": [],
   "source": [
    "yhat5=final_gb.predict(tesdmat)"
   ]
  },
  {
   "cell_type": "code",
   "execution_count": 13,
   "metadata": {},
   "outputs": [
    {
     "data": {
      "text/plain": [
       "0.4785628215799275"
      ]
     },
     "execution_count": 13,
     "metadata": {},
     "output_type": "execute_result"
    }
   ],
   "source": [
    "mean_squared_error(y_test, yhat5)"
   ]
  },
  {
   "cell_type": "code",
   "execution_count": 58,
   "metadata": {},
   "outputs": [
    {
     "data": {
      "image/png": "[encoded data removed]",
      "text/plain": [
       "<Figure size 1440x720 with 1 Axes>"
      ]
     },
     "metadata": {},
     "output_type": "display_data"
    }
   ],
   "source": [
    "plt.figure(figsize=(20, 10))\n",
    "\n",
    "\n",
    "ax1 = sns.distplot(y_test, hist=False, color=\"r\", label=\"Actual Value\")\n",
    "sns.distplot(yhat5, hist=False, color=\"b\", label=\"Fitted Values\" , ax=ax1)\n",
    "\n",
    "\n",
    "plt.title('Actual vs Fitted Values for Price')\n",
    "plt.xlabel('Price (in dollars)')\n",
    "plt.ylabel('Proportion of bids')\n",
    "\n",
    "plt.show()"
   ]
  },
  {
   "cell_type": "code",
   "execution_count": 14,
   "metadata": {},
   "outputs": [
    {
     "data": {
      "text/plain": [
       "0.04370904427938882"
      ]
     },
     "execution_count": 14,
     "metadata": {},
     "output_type": "execute_result"
    }
   ],
   "source": [
    "r2_score(y_test, yhat5)"
   ]
  },
  {
   "cell_type": "markdown",
   "metadata": {},
   "source": [
    "### Testing with data.csv"
   ]
  },
  {
   "cell_type": "code",
   "execution_count": 39,
   "metadata": {},
   "outputs": [],
   "source": [
    "tesdmat2=xgb.DMatrix(test2_x)"
   ]
  },
  {
   "cell_type": "code",
   "execution_count": 40,
   "metadata": {},
   "outputs": [],
   "source": [
    "yhatt=final_gb.predict(tesdmat2)"
   ]
  },
  {
   "cell_type": "code",
   "execution_count": 41,
   "metadata": {},
   "outputs": [
    {
     "data": {
      "text/plain": [
       "0.2144012532392807"
      ]
     },
     "execution_count": 41,
     "metadata": {},
     "output_type": "execute_result"
    }
   ],
   "source": [
    "mean_squared_error(test2_y, yhatt)"
   ]
  },
  {
   "cell_type": "code",
   "execution_count": 42,
   "metadata": {},
   "outputs": [
    {
     "data": {
      "text/plain": [
       "0.22107434602976928"
      ]
     },
     "execution_count": 42,
     "metadata": {},
     "output_type": "execute_result"
    }
   ],
   "source": [
    "r2_score(test2_y, yhatt)"
   ]
  },
  {
   "cell_type": "code",
   "execution_count": null,
   "metadata": {},
   "outputs": [],
   "source": []
  },
  {
   "cell_type": "code",
   "execution_count": null,
   "metadata": {},
   "outputs": [],
   "source": []
  }
 ],
 "metadata": {
  "kernelspec": {
   "display_name": "Python 3",
   "language": "python",
   "name": "python3"
  },
  "language_info": {
   "codemirror_mode": {
    "name": "ipython",
    "version": 3
   },
   "file_extension": ".py",
   "mimetype": "text/x-python",
   "name": "python",
   "nbconvert_exporter": "python",
   "pygments_lexer": "ipython3",
   "version": "3.6.5"
  }
 },
 "nbformat": 4,
 "nbformat_minor": 2
}
